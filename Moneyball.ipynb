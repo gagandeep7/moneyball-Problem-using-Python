{
 "cells": [
  {
   "cell_type": "code",
   "execution_count": 1,
   "metadata": {},
   "outputs": [],
   "source": [
    "# Common imports\n",
    "import numpy as np\n",
    "import os\n",
    "import pandas as pd\n",
    "import seaborn as sns\n",
    "# To plot pretty figures\n",
    "%matplotlib inline\n",
    "import matplotlib as mpl\n",
    "import matplotlib.pyplot as plt\n",
    "mpl.rc('axes', labelsize=14)\n",
    "mpl.rc('xtick', labelsize=12)\n",
    "mpl.rc('ytick', labelsize=12)\n",
    "# Ignore useless warnings\n",
    "import warnings\n",
    "warnings.filterwarnings(action=\"ignore\", message=\"^internal gelsd\")"
   ]
  },
  {
   "cell_type": "code",
   "execution_count": 2,
   "metadata": {},
   "outputs": [],
   "source": [
    "# reading the csv file\n",
    "df=pd.read_csv('baseball.csv')\n"
   ]
  },
  {
   "cell_type": "code",
   "execution_count": 3,
   "metadata": {},
   "outputs": [
    {
     "data": {
      "text/html": [
       "<div>\n",
       "<style scoped>\n",
       "    .dataframe tbody tr th:only-of-type {\n",
       "        vertical-align: middle;\n",
       "    }\n",
       "\n",
       "    .dataframe tbody tr th {\n",
       "        vertical-align: top;\n",
       "    }\n",
       "\n",
       "    .dataframe thead th {\n",
       "        text-align: right;\n",
       "    }\n",
       "</style>\n",
       "<table border=\"1\" class=\"dataframe\">\n",
       "  <thead>\n",
       "    <tr style=\"text-align: right;\">\n",
       "      <th></th>\n",
       "      <th>Team</th>\n",
       "      <th>League</th>\n",
       "      <th>Year</th>\n",
       "      <th>RS</th>\n",
       "      <th>RA</th>\n",
       "      <th>W</th>\n",
       "      <th>OBP</th>\n",
       "      <th>SLG</th>\n",
       "      <th>BA</th>\n",
       "      <th>Playoffs</th>\n",
       "      <th>RankSeason</th>\n",
       "      <th>RankPlayoffs</th>\n",
       "      <th>G</th>\n",
       "      <th>OOBP</th>\n",
       "      <th>OSLG</th>\n",
       "    </tr>\n",
       "  </thead>\n",
       "  <tbody>\n",
       "    <tr>\n",
       "      <th>0</th>\n",
       "      <td>ARI</td>\n",
       "      <td>NL</td>\n",
       "      <td>2012</td>\n",
       "      <td>734</td>\n",
       "      <td>688</td>\n",
       "      <td>81</td>\n",
       "      <td>0.328</td>\n",
       "      <td>0.418</td>\n",
       "      <td>0.259</td>\n",
       "      <td>0</td>\n",
       "      <td>NaN</td>\n",
       "      <td>NaN</td>\n",
       "      <td>162</td>\n",
       "      <td>0.317</td>\n",
       "      <td>0.415</td>\n",
       "    </tr>\n",
       "    <tr>\n",
       "      <th>1</th>\n",
       "      <td>ATL</td>\n",
       "      <td>NL</td>\n",
       "      <td>2012</td>\n",
       "      <td>700</td>\n",
       "      <td>600</td>\n",
       "      <td>94</td>\n",
       "      <td>0.320</td>\n",
       "      <td>0.389</td>\n",
       "      <td>0.247</td>\n",
       "      <td>1</td>\n",
       "      <td>4.0</td>\n",
       "      <td>5.0</td>\n",
       "      <td>162</td>\n",
       "      <td>0.306</td>\n",
       "      <td>0.378</td>\n",
       "    </tr>\n",
       "    <tr>\n",
       "      <th>2</th>\n",
       "      <td>BAL</td>\n",
       "      <td>AL</td>\n",
       "      <td>2012</td>\n",
       "      <td>712</td>\n",
       "      <td>705</td>\n",
       "      <td>93</td>\n",
       "      <td>0.311</td>\n",
       "      <td>0.417</td>\n",
       "      <td>0.247</td>\n",
       "      <td>1</td>\n",
       "      <td>5.0</td>\n",
       "      <td>4.0</td>\n",
       "      <td>162</td>\n",
       "      <td>0.315</td>\n",
       "      <td>0.403</td>\n",
       "    </tr>\n",
       "    <tr>\n",
       "      <th>3</th>\n",
       "      <td>BOS</td>\n",
       "      <td>AL</td>\n",
       "      <td>2012</td>\n",
       "      <td>734</td>\n",
       "      <td>806</td>\n",
       "      <td>69</td>\n",
       "      <td>0.315</td>\n",
       "      <td>0.415</td>\n",
       "      <td>0.260</td>\n",
       "      <td>0</td>\n",
       "      <td>NaN</td>\n",
       "      <td>NaN</td>\n",
       "      <td>162</td>\n",
       "      <td>0.331</td>\n",
       "      <td>0.428</td>\n",
       "    </tr>\n",
       "    <tr>\n",
       "      <th>4</th>\n",
       "      <td>CHC</td>\n",
       "      <td>NL</td>\n",
       "      <td>2012</td>\n",
       "      <td>613</td>\n",
       "      <td>759</td>\n",
       "      <td>61</td>\n",
       "      <td>0.302</td>\n",
       "      <td>0.378</td>\n",
       "      <td>0.240</td>\n",
       "      <td>0</td>\n",
       "      <td>NaN</td>\n",
       "      <td>NaN</td>\n",
       "      <td>162</td>\n",
       "      <td>0.335</td>\n",
       "      <td>0.424</td>\n",
       "    </tr>\n",
       "  </tbody>\n",
       "</table>\n",
       "</div>"
      ],
      "text/plain": [
       "  Team League  Year   RS   RA   W    OBP    SLG     BA  Playoffs  RankSeason  \\\n",
       "0  ARI     NL  2012  734  688  81  0.328  0.418  0.259         0         NaN   \n",
       "1  ATL     NL  2012  700  600  94  0.320  0.389  0.247         1         4.0   \n",
       "2  BAL     AL  2012  712  705  93  0.311  0.417  0.247         1         5.0   \n",
       "3  BOS     AL  2012  734  806  69  0.315  0.415  0.260         0         NaN   \n",
       "4  CHC     NL  2012  613  759  61  0.302  0.378  0.240         0         NaN   \n",
       "\n",
       "   RankPlayoffs    G   OOBP   OSLG  \n",
       "0           NaN  162  0.317  0.415  \n",
       "1           5.0  162  0.306  0.378  \n",
       "2           4.0  162  0.315  0.403  \n",
       "3           NaN  162  0.331  0.428  \n",
       "4           NaN  162  0.335  0.424  "
      ]
     },
     "execution_count": 3,
     "metadata": {},
     "output_type": "execute_result"
    }
   ],
   "source": [
    "# knowing the data\n",
    "df.head()"
   ]
  },
  {
   "cell_type": "code",
   "execution_count": 4,
   "metadata": {},
   "outputs": [],
   "source": [
    "# adding new columns Run difference as it is important\n",
    "df['RD']=df['RS']-df['RA']"
   ]
  },
  {
   "cell_type": "code",
   "execution_count": 5,
   "metadata": {},
   "outputs": [
    {
     "data": {
      "text/plain": [
       "Playoffs        1.000000\n",
       "W               0.616757\n",
       "RD              0.581094\n",
       "OOBP            0.433572\n",
       "RS              0.386628\n",
       "OSLG            0.366744\n",
       "OBP             0.363890\n",
       "SLG             0.324713\n",
       "BA              0.290217\n",
       "RA              0.261477\n",
       "Year            0.145779\n",
       "G               0.022208\n",
       "RankSeason           NaN\n",
       "RankPlayoffs         NaN\n",
       "Name: Playoffs, dtype: float64"
      ]
     },
     "execution_count": 5,
     "metadata": {},
     "output_type": "execute_result"
    }
   ],
   "source": [
    "# check relationship with playoffs\n",
    "abs(df.corr()['Playoffs']).sort_values(ascending=False)"
   ]
  },
  {
   "cell_type": "code",
   "execution_count": 6,
   "metadata": {},
   "outputs": [
    {
     "data": {
      "text/plain": [
       "W               1.000000\n",
       "RD              0.937851\n",
       "RankSeason      0.755098\n",
       "OOBP            0.634315\n",
       "Playoffs        0.616757\n",
       "OSLG            0.568490\n",
       "RA              0.532394\n",
       "RS              0.511745\n",
       "OBP             0.481836\n",
       "BA              0.408716\n",
       "SLG             0.401496\n",
       "RankPlayoffs    0.198960\n",
       "G               0.105309\n",
       "Year            0.004138\n",
       "Name: W, dtype: float64"
      ]
     },
     "execution_count": 6,
     "metadata": {},
     "output_type": "execute_result"
    }
   ],
   "source": [
    "\n",
    "# so we will check relation of W \n",
    "abs(df.corr()['W']).sort_values(ascending=False)\n",
    "# it is clear RD has linear relationship with W"
   ]
  },
  {
   "cell_type": "code",
   "execution_count": 7,
   "metadata": {},
   "outputs": [
    {
     "name": "stdout",
     "output_type": "stream",
     "text": [
      "<class 'pandas.core.frame.DataFrame'>\n",
      "RangeIndex: 1232 entries, 0 to 1231\n",
      "Data columns (total 16 columns):\n",
      "Team            1232 non-null object\n",
      "League          1232 non-null object\n",
      "Year            1232 non-null int64\n",
      "RS              1232 non-null int64\n",
      "RA              1232 non-null int64\n",
      "W               1232 non-null int64\n",
      "OBP             1232 non-null float64\n",
      "SLG             1232 non-null float64\n",
      "BA              1232 non-null float64\n",
      "Playoffs        1232 non-null int64\n",
      "RankSeason      244 non-null float64\n",
      "RankPlayoffs    244 non-null float64\n",
      "G               1232 non-null int64\n",
      "OOBP            420 non-null float64\n",
      "OSLG            420 non-null float64\n",
      "RD              1232 non-null int64\n",
      "dtypes: float64(7), int64(7), object(2)\n",
      "memory usage: 154.1+ KB\n"
     ]
    }
   ],
   "source": [
    "# checking missing values\n",
    "df.info()"
   ]
  },
  {
   "cell_type": "code",
   "execution_count": 8,
   "metadata": {},
   "outputs": [
    {
     "data": {
      "text/plain": [
       "[13, 14, 10, 11]"
      ]
     },
     "execution_count": 8,
     "metadata": {},
     "output_type": "execute_result"
    }
   ],
   "source": [
    "# missing values handling\n",
    "\n",
    "\n",
    "\n",
    "X_np=df.iloc[:,:].values# converted to numpy\n",
    "X_np\n",
    "\n",
    "\n",
    "# getting columns for missing values\n",
    "cols=['OOBP','OSLG','RankSeason','RankPlayoffs']\n",
    "nan=[]\n",
    "for i in cols:\n",
    "#     print(i)\n",
    "     a=df.columns.get_loc(f\"{i}\")\n",
    "     nan.append(a)\n",
    "# getting columns for string vALUES\n",
    "nan"
   ]
  },
  {
   "cell_type": "code",
   "execution_count": 9,
   "metadata": {},
   "outputs": [
    {
     "name": "stderr",
     "output_type": "stream",
     "text": [
      "/home/gag007/.local/lib/python3.6/site-packages/sklearn/utils/deprecation.py:66: DeprecationWarning: Class Imputer is deprecated; Imputer was deprecated in version 0.20 and will be removed in 0.22. Import impute.SimpleImputer from sklearn instead.\n",
      "  warnings.warn(msg, category=DeprecationWarning)\n"
     ]
    }
   ],
   "source": [
    "# solving missing values\n",
    "from sklearn.preprocessing import Imputer\n",
    "imputer = Imputer(missing_values='NaN',strategy='mean',axis=0)#nan use for recognise missing values,strage default is mean and median,most frequent can also be used\n",
    "#axis =0 for impute along cols and axis =1 for along the rows\n",
    "X_np[:,nan]=imputer.fit_transform(X_np[:, nan])#transform for replace missing values with stragey"
   ]
  },
  {
   "cell_type": "code",
   "execution_count": 10,
   "metadata": {},
   "outputs": [
    {
     "name": "stdout",
     "output_type": "stream",
     "text": [
      "<class 'pandas.core.frame.DataFrame'>\n",
      "RangeIndex: 1232 entries, 0 to 1231\n",
      "Data columns (total 16 columns):\n",
      "Team            1232 non-null object\n",
      "League          1232 non-null object\n",
      "Year            1232 non-null object\n",
      "RS              1232 non-null object\n",
      "RA              1232 non-null object\n",
      "W               1232 non-null object\n",
      "OBP             1232 non-null object\n",
      "SLG             1232 non-null object\n",
      "BA              1232 non-null object\n",
      "Playoffs        1232 non-null object\n",
      "RankSeason      1232 non-null object\n",
      "RankPlayoffs    1232 non-null object\n",
      "G               1232 non-null object\n",
      "OOBP            1232 non-null object\n",
      "OSLG            1232 non-null object\n",
      "RD              1232 non-null object\n",
      "dtypes: object(16)\n",
      "memory usage: 154.1+ KB\n"
     ]
    }
   ],
   "source": [
    "dfs=pd.DataFrame(X_np,columns=df.columns)# with missing values\n",
    "dfs.info()"
   ]
  },
  {
   "cell_type": "code",
   "execution_count": 11,
   "metadata": {},
   "outputs": [
    {
     "data": {
      "text/plain": [
       "[<matplotlib.lines.Line2D at 0x7fe7001e9358>]"
      ]
     },
     "execution_count": 11,
     "metadata": {},
     "output_type": "execute_result"
    },
    {
     "data": {
      "image/png": "[encoded data removed]",
      "text/plain": [
       "<Figure size 720x576 with 1 Axes>"
      ]
     },
     "metadata": {
      "needs_background": "light"
     },
     "output_type": "display_data"
    }
   ],
   "source": [
    "# verify by plotting graph the linear relationship between wins and RD\n",
    "x=df.RD\n",
    "y=df.W\n",
    "# Find the slope and intercept of the best fit line\n",
    "slope, intercept = np.polyfit(x, y, 1)\n",
    "\n",
    "# Create a list of values in the best fit line\n",
    "abline_values = [slope * i + intercept for i in x]\n",
    "plt.figure(figsize=(10,8))\n",
    "plt.scatter(x,y)\n",
    "plt.ylabel(\"WINS\")\n",
    "plt.xlabel(\"RD\")\n",
    "plt.plot(x,abline_values, 'r')\n"
   ]
  },
  {
   "cell_type": "code",
   "execution_count": 12,
   "metadata": {},
   "outputs": [
    {
     "name": "stderr",
     "output_type": "stream",
     "text": [
      "/home/gag007/.local/lib/python3.6/site-packages/ipykernel_launcher.py:5: FutureWarning: Sorting because non-concatenation axis is not aligned. A future version\n",
      "of pandas will change to not sort by default.\n",
      "\n",
      "To accept the future behavior, pass 'sort=False'.\n",
      "\n",
      "To retain the current behavior and silence the warning, pass 'sort=True'.\n",
      "\n",
      "  \"\"\"\n"
     ]
    }
   ],
   "source": [
    "attack=df[['RS','OBP','SLG','BA']]# check corelation between batting attributes\n",
    "defense=df[['RA','OOBP','OSLG']]# check corelation between bowling attributes\n",
    "df1=attack.corr()\n",
    "df2=defense.corr()\n",
    "df3=pd.concat([df1,df2],axis=1)# combine attack and defene relation"
   ]
  },
  {
   "cell_type": "code",
   "execution_count": 13,
   "metadata": {},
   "outputs": [
    {
     "data": {
      "text/html": [
       "<div>\n",
       "<style scoped>\n",
       "    .dataframe tbody tr th:only-of-type {\n",
       "        vertical-align: middle;\n",
       "    }\n",
       "\n",
       "    .dataframe tbody tr th {\n",
       "        vertical-align: top;\n",
       "    }\n",
       "\n",
       "    .dataframe thead th {\n",
       "        text-align: right;\n",
       "    }\n",
       "</style>\n",
       "<table border=\"1\" class=\"dataframe\">\n",
       "  <thead>\n",
       "    <tr style=\"text-align: right;\">\n",
       "      <th></th>\n",
       "      <th>RS</th>\n",
       "      <th>OBP</th>\n",
       "      <th>SLG</th>\n",
       "      <th>BA</th>\n",
       "      <th>RA</th>\n",
       "      <th>OOBP</th>\n",
       "      <th>OSLG</th>\n",
       "    </tr>\n",
       "  </thead>\n",
       "  <tbody>\n",
       "    <tr>\n",
       "      <th>BA</th>\n",
       "      <td>0.827000</td>\n",
       "      <td>0.851958</td>\n",
       "      <td>0.790481</td>\n",
       "      <td>1.000000</td>\n",
       "      <td>NaN</td>\n",
       "      <td>NaN</td>\n",
       "      <td>NaN</td>\n",
       "    </tr>\n",
       "    <tr>\n",
       "      <th>OBP</th>\n",
       "      <td>0.900492</td>\n",
       "      <td>1.000000</td>\n",
       "      <td>0.790910</td>\n",
       "      <td>0.851958</td>\n",
       "      <td>NaN</td>\n",
       "      <td>NaN</td>\n",
       "      <td>NaN</td>\n",
       "    </tr>\n",
       "    <tr>\n",
       "      <th>OOBP</th>\n",
       "      <td>NaN</td>\n",
       "      <td>NaN</td>\n",
       "      <td>NaN</td>\n",
       "      <td>NaN</td>\n",
       "      <td>0.910344</td>\n",
       "      <td>1.000000</td>\n",
       "      <td>0.830902</td>\n",
       "    </tr>\n",
       "    <tr>\n",
       "      <th>OSLG</th>\n",
       "      <td>NaN</td>\n",
       "      <td>NaN</td>\n",
       "      <td>NaN</td>\n",
       "      <td>NaN</td>\n",
       "      <td>0.909319</td>\n",
       "      <td>0.830902</td>\n",
       "      <td>1.000000</td>\n",
       "    </tr>\n",
       "    <tr>\n",
       "      <th>RA</th>\n",
       "      <td>NaN</td>\n",
       "      <td>NaN</td>\n",
       "      <td>NaN</td>\n",
       "      <td>NaN</td>\n",
       "      <td>1.000000</td>\n",
       "      <td>0.910344</td>\n",
       "      <td>0.909319</td>\n",
       "    </tr>\n",
       "    <tr>\n",
       "      <th>RS</th>\n",
       "      <td>1.000000</td>\n",
       "      <td>0.900492</td>\n",
       "      <td>0.918740</td>\n",
       "      <td>0.827000</td>\n",
       "      <td>NaN</td>\n",
       "      <td>NaN</td>\n",
       "      <td>NaN</td>\n",
       "    </tr>\n",
       "    <tr>\n",
       "      <th>SLG</th>\n",
       "      <td>0.918740</td>\n",
       "      <td>0.790910</td>\n",
       "      <td>1.000000</td>\n",
       "      <td>0.790481</td>\n",
       "      <td>NaN</td>\n",
       "      <td>NaN</td>\n",
       "      <td>NaN</td>\n",
       "    </tr>\n",
       "  </tbody>\n",
       "</table>\n",
       "</div>"
      ],
      "text/plain": [
       "            RS       OBP       SLG        BA        RA      OOBP      OSLG\n",
       "BA    0.827000  0.851958  0.790481  1.000000       NaN       NaN       NaN\n",
       "OBP   0.900492  1.000000  0.790910  0.851958       NaN       NaN       NaN\n",
       "OOBP       NaN       NaN       NaN       NaN  0.910344  1.000000  0.830902\n",
       "OSLG       NaN       NaN       NaN       NaN  0.909319  0.830902  1.000000\n",
       "RA         NaN       NaN       NaN       NaN  1.000000  0.910344  0.909319\n",
       "RS    1.000000  0.900492  0.918740  0.827000       NaN       NaN       NaN\n",
       "SLG   0.918740  0.790910  1.000000  0.790481       NaN       NaN       NaN"
      ]
     },
     "execution_count": 13,
     "metadata": {},
     "output_type": "execute_result"
    }
   ],
   "source": [
    "# finding best attributes\n",
    "df3# it is clear batting average is not that much essential for RS"
   ]
  },
  {
   "cell_type": "code",
   "execution_count": 14,
   "metadata": {},
   "outputs": [
    {
     "data": {
      "text/html": [
       "<div>\n",
       "<style scoped>\n",
       "    .dataframe tbody tr th:only-of-type {\n",
       "        vertical-align: middle;\n",
       "    }\n",
       "\n",
       "    .dataframe tbody tr th {\n",
       "        vertical-align: top;\n",
       "    }\n",
       "\n",
       "    .dataframe thead th {\n",
       "        text-align: right;\n",
       "    }\n",
       "</style>\n",
       "<table border=\"1\" class=\"dataframe\">\n",
       "  <thead>\n",
       "    <tr style=\"text-align: right;\">\n",
       "      <th></th>\n",
       "      <th>scores</th>\n",
       "      <th>names</th>\n",
       "    </tr>\n",
       "  </thead>\n",
       "  <tbody>\n",
       "    <tr>\n",
       "      <th>0</th>\n",
       "      <td>0.675230</td>\n",
       "      <td>SLG</td>\n",
       "    </tr>\n",
       "    <tr>\n",
       "      <th>1</th>\n",
       "      <td>0.228211</td>\n",
       "      <td>OBP</td>\n",
       "    </tr>\n",
       "    <tr>\n",
       "      <th>2</th>\n",
       "      <td>0.162874</td>\n",
       "      <td>BA</td>\n",
       "    </tr>\n",
       "  </tbody>\n",
       "</table>\n",
       "</div>"
      ],
      "text/plain": [
       "     scores names\n",
       "0  0.675230   SLG\n",
       "1  0.228211   OBP\n",
       "2  0.162874    BA"
      ]
     },
     "execution_count": 14,
     "metadata": {},
     "output_type": "execute_result"
    }
   ],
   "source": [
    "# compare RS features using sklearn\n",
    "\n",
    "from sklearn.feature_selection import SelectKBest\n",
    "from sklearn.feature_selection import chi2\n",
    "x=df[['SLG','OBP','BA']]\n",
    "Y=df['RS']\n",
    "best=SelectKBest(score_func=chi2,k=3)\n",
    "best.fit(x,y)\n",
    "scores=pd.DataFrame(best.scores_)\n",
    "props=pd.DataFrame(x.columns)\n",
    "# concat two dataframes\n",
    "result=pd.concat([scores,props],axis=1)\n",
    "result.columns=['scores','names']\n",
    "result"
   ]
  },
  {
   "cell_type": "code",
   "execution_count": 15,
   "metadata": {},
   "outputs": [],
   "source": [
    "from sklearn.metrics import mean_squared_error"
   ]
  },
  {
   "cell_type": "code",
   "execution_count": null,
   "metadata": {},
   "outputs": [],
   "source": []
  },
  {
   "cell_type": "code",
   "execution_count": 16,
   "metadata": {},
   "outputs": [
    {
     "name": "stdout",
     "output_type": "stream",
     "text": [
      "(247, 2)\n",
      "-813.7968364332138\n",
      "[1492.23984361 2868.94100656]\n",
      "root mean square error : 26.17075588622023\n"
     ]
    }
   ],
   "source": [
    "# building lin reg model for RS AND SLG,OBP\n",
    "X=df[['SLG','OBP']]\n",
    "Y=df['RS']\n",
    "\n",
    "from sklearn.model_selection import train_test_split\n",
    "xtrain,xtest,ytrain,ytest=train_test_split(X,Y,test_size=0.2,shuffle=True)\n",
    "\n",
    "from sklearn.linear_model import LinearRegression\n",
    "run_score=LinearRegression()\n",
    "run_score.fit(xtrain,ytrain)# fit model\n",
    "print(xtest.shape)\n",
    "ypred=run_score.predict(xtest)# predict result\n",
    "print(run_score.intercept_)\n",
    "print(run_score.coef_)\n",
    "# accuracy_score(ytest,ypred)\n",
    "rmse=np.sqrt(mean_squared_error(ypred,ytest))\n",
    "print(\"root mean square error :\",rmse)\n",
    "\n",
    "\n",
    "\n"
   ]
  },
  {
   "cell_type": "code",
   "execution_count": 17,
   "metadata": {},
   "outputs": [
    {
     "data": {
      "text/plain": [
       "Index(['Team', 'League', 'Year', 'RS', 'RA', 'W', 'OBP', 'SLG', 'BA',\n",
       "       'Playoffs', 'RankSeason', 'RankPlayoffs', 'G', 'OOBP', 'OSLG', 'RD'],\n",
       "      dtype='object')"
      ]
     },
     "execution_count": 17,
     "metadata": {},
     "output_type": "execute_result"
    }
   ],
   "source": [
    "dfs.columns"
   ]
  },
  {
   "cell_type": "code",
   "execution_count": 18,
   "metadata": {},
   "outputs": [
    {
     "name": "stdout",
     "output_type": "stream",
     "text": [
      "(247, 2)\n",
      "-919.9519076222665\n",
      "[1678.34021601 2801.54318696]\n",
      "root mean square error : 76.25170579502024\n"
     ]
    }
   ],
   "source": [
    "# builing linreg for RA and OOBP,OSLG\n",
    "X=dfs[['OSLG','OOBP']]# using df1 as it has all misssing values\n",
    "Y=dfs['RA']\n",
    "\n",
    "xtrain,xtest,ytrain,ytest=train_test_split(X,Y,test_size=0.2,shuffle=True)\n",
    "\n",
    "from sklearn.linear_model import LinearRegression\n",
    "run_allow=LinearRegression()\n",
    "run_allow.fit(xtrain,ytrain)\n",
    "print(xtest.shape)\n",
    "ypred=run_allow.predict(xtest)\n",
    "print(run_allow.intercept_)\n",
    "print(run_allow.coef_)\n",
    "rmse=np.sqrt(mean_squared_error(ypred,ytest))\n",
    "print(\"root mean square error :\",rmse)\n",
    "\n",
    "\n"
   ]
  },
  {
   "cell_type": "code",
   "execution_count": 19,
   "metadata": {},
   "outputs": [
    {
     "name": "stdout",
     "output_type": "stream",
     "text": [
      "[80.93093852]\n",
      "[[0.10471694]]\n",
      "root mean square error : 3.8384547893865166\n"
     ]
    }
   ],
   "source": [
    "# linear model between runs difference and wins\n",
    "\n",
    "x = df[['RD']]\n",
    "\n",
    "#x=df.RD\n",
    "# x=np.array(x)\n",
    "# x=x.reshape(-1,1)\n",
    "y = df[['W']]\n",
    "\n",
    "xtrain,xtest,ytrain,ytest=train_test_split(x,y,test_size=0.2,shuffle=True)\n",
    "\n",
    "Wins = LinearRegression()\n",
    "Wins.fit(xtrain,ytrain)\n",
    "ypred=Wins.predict(xtest)\n",
    " \n",
    "print(Wins.intercept_)\n",
    "print(Wins.coef_)\n",
    "rmse=np.sqrt(mean_squared_error(ypred,ytest))\n",
    "print(\"root mean square error :\",rmse)\n"
   ]
  },
  {
   "cell_type": "code",
   "execution_count": 20,
   "metadata": {},
   "outputs": [],
   "source": [
    "from sklearn.model_selection import train_test_split\n",
    "\n",
    "X=df[['W']];Y=df[['Playoffs']]\n",
    "xtrain,xtest,ytrain,ytest=train_test_split(X,Y,test_size=0.2,shuffle=True)\n",
    "\n",
    "from sklearn.linear_model import LinearRegression\n",
    "regressor=LinearRegression()\n",
    "regressor.fit(xtrain,ytrain)\n",
    "qualify=regressor.predict(xtest)\n"
   ]
  },
  {
   "cell_type": "code",
   "execution_count": 21,
   "metadata": {},
   "outputs": [
    {
     "name": "stdout",
     "output_type": "stream",
     "text": [
      "519\n",
      "total run allowed [764.01655888]\n",
      "total run scored [813.62834714]\n",
      "total run difference [-49.61178826]\n"
     ]
    }
   ],
   "source": [
    "# random values of OOBP OSLG,SLG,OBP from dataset\n",
    "\n",
    "import random\n",
    "OBP=df['OBP']\n",
    "n=random.randint(0,len(df))\n",
    "print(n)\n",
    "OBP=OBP[n]\n",
    "SLG=df['SLG']\n",
    "SLG=SLG[n]\n",
    "OOBP=dfs['OOBP']\n",
    "OOBP=OOBP[n]\n",
    "OSLG=dfs['OSLG']\n",
    "OSLG=OSLG[n]\n",
    "\n",
    "\n",
    "  \n",
    "RUNS_ALLOW=run_allow.predict([[OOBP,OSLG]])\n",
    "RUNS_MADE=run_score.predict([[OBP,SLG]])\n",
    "RUNS_MADE,RUNS_ALLOW\n",
    "print(\"total run allowed\",RUNS_MADE)\n",
    "print(\"total run scored\",RUNS_ALLOW)\n",
    "print(\"total run difference\",RUNS_MADE-RUNS_ALLOW)\n",
    "RD=RUNS_MADE-RUNS_ALLOW\n",
    "RD=RD.reshape(-1,1)"
   ]
  },
  {
   "cell_type": "code",
   "execution_count": 22,
   "metadata": {},
   "outputs": [
    {
     "name": "stdout",
     "output_type": "stream",
     "text": [
      "no of wins [[75.73574369]]\n",
      "qualify prediction by model : [[0.08512671]]\n",
      "not qualify\n"
     ]
    }
   ],
   "source": [
    "# predicting on new data whether qualify or not\n",
    "\n",
    "WINS=Wins.predict(RD)\n",
    "print(\"no of wins\",WINS)\n",
    "qualify=regressor.predict(WINS)\n",
    "print(\"qualify prediction by model :\", qualify)\n",
    "\n",
    "# it is known from graph  above 95 wins has nearly always led to qualification\n",
    "if WINS >=95 :\n",
    "    print(\"qualify\")\n",
    "else:\n",
    "    print(\"not qualify\")"
   ]
  },
  {
   "cell_type": "code",
   "execution_count": 23,
   "metadata": {},
   "outputs": [
    {
     "data": {
      "text/plain": [
       "<matplotlib.lines.Line2D at 0x7fe6f9911550>"
      ]
     },
     "execution_count": 23,
     "metadata": {},
     "output_type": "execute_result"
    },
    {
     "data": {
      "image/png": "[encoded data removed]",
      "text/plain": [
       "<Figure size 684.875x504 with 1 Axes>"
      ]
     },
     "metadata": {
      "needs_background": "light"
     },
     "output_type": "display_data"
    }
   ],
   "source": [
    "# verify 95 wins claim\n",
    "\n",
    "# Plotting scatterplot with respect to playoff\n",
    "sns.lmplot(x = \"W\", y = \"RS\", fit_reg = False, hue = \"Playoffs\", data=df,height=7, aspect=1.25)\n",
    "plt.xlabel(\"Wins\")\n",
    "plt.ylabel(\"Runs Scored\")\n",
    "plt.axvline(x = 95)\n",
    "\n",
    "# WE KNOW NOW WINS ABOVE 95 IS NECESSARY FOR PLAYOFFS"
   ]
  },
  {
   "cell_type": "code",
   "execution_count": null,
   "metadata": {},
   "outputs": [],
   "source": []
  },
  {
   "cell_type": "code",
   "execution_count": null,
   "metadata": {},
   "outputs": [],
   "source": []
  }
 ],
 "metadata": {
  "kernelspec": {
   "display_name": "Python 3",
   "language": "python",
   "name": "python3"
  },
  "language_info": {
   "codemirror_mode": {
    "name": "ipython",
    "version": 3
   },
   "file_extension": ".py",
   "mimetype": "text/x-python",
   "name": "python",
   "nbconvert_exporter": "python",
   "pygments_lexer": "ipython3",
   "version": "3.6.8"
  }
 },
 "nbformat": 4,
 "nbformat_minor": 2
}
